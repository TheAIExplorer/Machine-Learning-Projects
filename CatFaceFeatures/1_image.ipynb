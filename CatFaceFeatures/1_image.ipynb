{
 "cells": [
  {
   "cell_type": "code",
   "execution_count": 1,
   "id": "b1f5f14c-7c79-43e7-950e-ec1a14d9273c",
   "metadata": {
    "tags": []
   },
   "outputs": [
    {
     "name": "stderr",
     "output_type": "stream",
     "text": [
      "C:\\Users\\haris\\anaconda3\\envs\\tensorflow-gpu\\lib\\site-packages\\tqdm\\auto.py:21: TqdmWarning: IProgress not found. Please update jupyter and ipywidgets. See https://ipywidgets.readthedocs.io/en/stable/user_install.html\n",
      "  from .autonotebook import tqdm as notebook_tqdm\n",
      "C:\\Users\\haris\\AppData\\Local\\Temp\\ipykernel_26316\\823622923.py:47: GradioDeprecationWarning: Usage of gradio.inputs is deprecated, and will not be supported in the future, please import your component from gradio.components\n",
      "  image_input = gr.inputs.Image()\n",
      "C:\\Users\\haris\\AppData\\Local\\Temp\\ipykernel_26316\\823622923.py:47: GradioDeprecationWarning: `optional` parameter is deprecated, and it has no effect\n",
      "  image_input = gr.inputs.Image()\n"
     ]
    },
    {
     "name": "stdout",
     "output_type": "stream",
     "text": [
      "Running on local URL:  http://127.0.0.1:7860\n",
      "Running on public URL: https://7408e60d79ef161428.gradio.live\n",
      "\n",
      "This share link expires in 72 hours. For free permanent hosting and GPU upgrades, run `gradio deploy` from Terminal to deploy to Spaces (https://huggingface.co/spaces)\n"
     ]
    },
    {
     "data": {
      "text/html": [
       "<div><iframe src=\"https://7408e60d79ef161428.gradio.live\" width=\"100%\" height=\"500\" allow=\"autoplay; camera; microphone; clipboard-read; clipboard-write;\" frameborder=\"0\" allowfullscreen></iframe></div>"
      ],
      "text/plain": [
       "<IPython.core.display.HTML object>"
      ]
     },
     "metadata": {},
     "output_type": "display_data"
    },
    {
     "data": {
      "text/plain": []
     },
     "execution_count": 1,
     "metadata": {},
     "output_type": "execute_result"
    },
    {
     "name": "stdout",
     "output_type": "stream",
     "text": [
      "1/1 [==============================] - 4s 4s/step\n",
      "1/1 [==============================] - 0s 32ms/step\n",
      "1/1 [==============================] - 0s 32ms/step\n"
     ]
    }
   ],
   "source": [
    "import cv2\n",
    "import tensorflow as tf\n",
    "import numpy as np\n",
    "import gradio as gr\n",
    "\n",
    "# Load the trained model from the saved file\n",
    "loaded_model = tf.keras.models.load_model('CatFaceFeatures_Resnet50_2.h5')\n",
    "\n",
    "# Function to predict facial landmarks on new images\n",
    "def predict_landmarks(image_input):\n",
    "    # Convert Gradio image object to numpy array\n",
    "    image = image_input.astype('uint8')\n",
    "\n",
    "    # Define the image size for resizing\n",
    "    image_size = (224, 224)\n",
    "\n",
    "    # Convert to RGB before resizing\n",
    "    image_rgb = cv2.cvtColor(image, cv2.COLOR_BGR2RGB)\n",
    "    resized_image = cv2.resize(image_rgb, image_size)\n",
    "    input_image = np.expand_dims(resized_image, axis=0)\n",
    "\n",
    "    # Make predictions using the trained model\n",
    "    predictions = loaded_model.predict(input_image)\n",
    "\n",
    "    # Rescale the predictions to the original image size\n",
    "    scale_y = image.shape[0] / image_size[0]\n",
    "    scale_x = image.shape[1] / image_size[1]\n",
    "    resized_predictions = [int(value * scale_x) if i % 2 == 0 else int(\n",
    "        value * scale_y) for i, value in enumerate(predictions[0])]\n",
    "\n",
    "    # Calculate the radius of the circles based on image dimensions\n",
    "    image_height, image_width, _ = image.shape\n",
    "    max_dim = max(image_height, image_width)\n",
    "    radius_scale = max_dim / 1500  # Adjust this scale factor as needed\n",
    "    \n",
    "    # Draw circles (dots) on the original image at the predicted landmark locations\n",
    "    for i in range(0, len(resized_predictions), 2):\n",
    "        x, y = resized_predictions[i], resized_predictions[i + 1]\n",
    "        color = (255, 0, 0)\n",
    "        radius = int(8 * radius_scale)  # Adjust the base radius value as needed\n",
    "        thickness = -1\n",
    "        cv2.circle(image, (x, y), radius, color, thickness)\n",
    "        \n",
    "    return image\n",
    "\n",
    "# Define the Gradio input component\n",
    "image_input = gr.inputs.Image()\n",
    "\n",
    "# Create the Gradio interface\n",
    "gr.Interface(fn=predict_landmarks, inputs=image_input, outputs=\"image\").launch(share=True)\n"
   ]
  },
  {
   "cell_type": "code",
   "execution_count": null,
   "id": "3e9cb5a5-c70b-457e-ba60-478e32ca61f0",
   "metadata": {},
   "outputs": [],
   "source": []
  }
 ],
 "metadata": {
  "kernelspec": {
   "display_name": "Python 3.10 (tensorflow-gpu)",
   "language": "python",
   "name": "tensorflow-gpu"
  },
  "language_info": {
   "codemirror_mode": {
    "name": "ipython",
    "version": 3
   },
   "file_extension": ".py",
   "mimetype": "text/x-python",
   "name": "python",
   "nbconvert_exporter": "python",
   "pygments_lexer": "ipython3",
   "version": "3.10.12"
  }
 },
 "nbformat": 4,
 "nbformat_minor": 5
}

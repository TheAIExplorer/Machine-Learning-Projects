{
 "cells": [
  {
   "cell_type": "code",
   "execution_count": 21,
   "id": "b1f5f14c-7c79-43e7-950e-ec1a14d9273c",
   "metadata": {
    "tags": []
   },
   "outputs": [
    {
     "name": "stdout",
     "output_type": "stream",
     "text": [
      "1/1 [==============================] - 1s 1s/step\n",
      "Predicted Landmarks: [297, 251, 378, 248, 332, 311, 235, 207, 234, 117, 296, 171, 371, 171, 431, 119, 428, 212]\n"
     ]
    }
   ],
   "source": [
    "import cv2\n",
    "import tensorflow as tf\n",
    "import numpy as np\n",
    "\n",
    "# Load the trained model from the saved file\n",
    "loaded_model = tf.keras.models.load_model('CatFaceFeatures_Resnet50_2.h5')\n",
    "\n",
    "# Function to predict facial landmarks on new images\n",
    "\n",
    "\n",
    "def predict_landmarks(image_path):\n",
    "    # Define the image size for resizing\n",
    "    image_size = (224, 224)\n",
    "\n",
    "    # Load the image and preprocess it\n",
    "    image = cv2.imread(image_path)\n",
    "    # Convert to RGB before resizing\n",
    "    image_rgb = cv2.cvtColor(image, cv2.COLOR_BGR2RGB)\n",
    "    resized_image = cv2.resize(image_rgb, image_size)\n",
    "    input_image = np.expand_dims(resized_image, axis=0)\n",
    "\n",
    "    # Make predictions using the trained model\n",
    "    predictions = loaded_model.predict(input_image)\n",
    "\n",
    "    # Rescale the predictions to the original image size\n",
    "    scale_y = image.shape[0] / image_size[0]\n",
    "    scale_x = image.shape[1] / image_size[1]\n",
    "    resized_predictions = [int(value * scale_x) if i % 2 == 0 else int(\n",
    "        value * scale_y) for i, value in enumerate(predictions[0])]\n",
    "\n",
    "    return image, resized_predictions\n",
    "\n",
    "\n",
    "# Use the loaded model for predictions on a new image\n",
    "new_image_path = r'C:\\Users\\haris\\ArtificialIntelligence\\MachineLearning\\Projects\\CatFaceFeatures\\download.jpg'\n",
    "original_image, landmarks = predict_landmarks(new_image_path)\n",
    "print(\"Predicted Landmarks:\", landmarks)\n",
    "\n",
    "# Draw circles (dots) on the original image at the predicted landmark locations\n",
    "for i in range(0, len(landmarks), 2):\n",
    "    x, y = landmarks[i], landmarks[i + 1]\n",
    "    # Red color for the dots, you can change it to any desired color\n",
    "    color = (0, 0, 255)\n",
    "    radius = 3  # Adjust the size of the dots as needed\n",
    "    thickness = -1  # Fill the circles (dots) to make them solid\n",
    "    cv2.circle(original_image, (x, y), radius, color, thickness)\n",
    "\n",
    "# Show the image with predicted landmarks\n",
    "cv2.imshow('Predicted Landmarks', original_image)\n",
    "cv2.waitKey(0)\n",
    "cv2.destroyAllWindows()\n"
   ]
  },
  {
   "cell_type": "code",
   "execution_count": null,
   "id": "8bcc1d1e-a824-4c8a-9805-3b29ae1ec8d9",
   "metadata": {},
   "outputs": [],
   "source": []
  }
 ],
 "metadata": {
  "kernelspec": {
   "display_name": "Python 3.10 (tensorflow-gpu)",
   "language": "python",
   "name": "tensorflow-gpu"
  },
  "language_info": {
   "codemirror_mode": {
    "name": "ipython",
    "version": 3
   },
   "file_extension": ".py",
   "mimetype": "text/x-python",
   "name": "python",
   "nbconvert_exporter": "python",
   "pygments_lexer": "ipython3",
   "version": "3.10.12"
  }
 },
 "nbformat": 4,
 "nbformat_minor": 5
}

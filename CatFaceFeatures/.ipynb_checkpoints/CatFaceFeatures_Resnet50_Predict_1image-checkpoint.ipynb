{
 "cells": [
  {
   "cell_type": "code",
   "execution_count": null,
   "id": "8bcc1d1e-a824-4c8a-9805-3b29ae1ec8d9",
   "metadata": {},
   "outputs": [],
   "source": [
    "pip install gradio"
   ]
  },
  {
   "cell_type": "code",
   "execution_count": 32,
   "id": "b1f5f14c-7c79-43e7-950e-ec1a14d9273c",
   "metadata": {
    "tags": []
   },
   "outputs": [
    {
     "name": "stderr",
     "output_type": "stream",
     "text": [
      "C:\\Users\\haris\\AppData\\Local\\Temp\\ipykernel_7496\\4282237865.py:101: GradioDeprecationWarning: Usage of gradio.inputs is deprecated, and will not be supported in the future, please import your component from gradio.components\n",
      "  image_input = gr.inputs.Image()\n",
      "C:\\Users\\haris\\AppData\\Local\\Temp\\ipykernel_7496\\4282237865.py:101: GradioDeprecationWarning: `optional` parameter is deprecated, and it has no effect\n",
      "  image_input = gr.inputs.Image()\n",
      "C:\\Users\\haris\\AppData\\Local\\Temp\\ipykernel_7496\\4282237865.py:104: GradioUnusedKwargWarning: You have unused kwarg parameters in Interface, please remove them: {'share': True}\n",
      "  gr.Interface(fn=predict_landmarks, inputs=image_input, share=True, outputs=\"image\").launch()\n"
     ]
    },
    {
     "name": "stdout",
     "output_type": "stream",
     "text": [
      "Running on local URL:  http://127.0.0.1:7867\n",
      "\n",
      "To create a public link, set `share=True` in `launch()`.\n"
     ]
    },
    {
     "data": {
      "text/html": [
       "<div><iframe src=\"http://127.0.0.1:7867/\" width=\"100%\" height=\"500\" allow=\"autoplay; camera; microphone; clipboard-read; clipboard-write;\" frameborder=\"0\" allowfullscreen></iframe></div>"
      ],
      "text/plain": [
       "<IPython.core.display.HTML object>"
      ]
     },
     "metadata": {},
     "output_type": "display_data"
    },
    {
     "data": {
      "text/plain": []
     },
     "execution_count": 32,
     "metadata": {},
     "output_type": "execute_result"
    },
    {
     "name": "stdout",
     "output_type": "stream",
     "text": [
      "1/1 [==============================] - 1s 1s/step\n"
     ]
    }
   ],
   "source": [
    "# import cv2\n",
    "# import tensorflow as tf\n",
    "# import numpy as np\n",
    "\n",
    "# # Load the trained model from the saved file\n",
    "# loaded_model = tf.keras.models.load_model('CatFaceFeatures_Resnet50_2.h5')\n",
    "\n",
    "# # Function to predict facial landmarks on new images\n",
    "# def predict_landmarks(image_path):\n",
    "#     # Define the image size for resizing\n",
    "#     image_size = (224, 224)\n",
    "\n",
    "#     # Load the image and preprocess it\n",
    "#     image = cv2.imread(image_path)\n",
    "#     # Convert to RGB before resizing\n",
    "#     image_rgb = cv2.cvtColor(image, cv2.COLOR_BGR2RGB)\n",
    "#     resized_image = cv2.resize(image_rgb, image_size)\n",
    "#     input_image = np.expand_dims(resized_image, axis=0)\n",
    "\n",
    "#     # Make predictions using the trained model\n",
    "#     predictions = loaded_model.predict(input_image)\n",
    "\n",
    "#     # Rescale the predictions to the original image size\n",
    "#     scale_y = image.shape[0] / image_size[0]\n",
    "#     scale_x = image.shape[1] / image_size[1]\n",
    "#     resized_predictions = [int(value * scale_x) if i % 2 == 0 else int(\n",
    "#         value * scale_y) for i, value in enumerate(predictions[0])]\n",
    "\n",
    "#     return image, resized_predictions\n",
    "\n",
    "\n",
    "# # Use the loaded model for predictions on a new image\n",
    "# new_image_path = r'C:\\Users\\haris\\AI\\ML\\Projects\\Data\\CatFaceFeatures\\download.jpg'\n",
    "# original_image, landmarks = predict_landmarks(new_image_path)\n",
    "# print(\"Predicted Landmarks:\", landmarks)\n",
    "\n",
    "# # Draw circles (dots) on the original image at the predicted landmark locations\n",
    "# for i in range(0, len(landmarks), 2):\n",
    "#     x, y = landmarks[i], landmarks[i + 1]\n",
    "#     # Red color for the dots, you can change it to any desired color\n",
    "#     color = (0, 0, 255)\n",
    "#     radius = 7  # Adjust the size of the dots as needed\n",
    "#     thickness = -1  # Fill the circles (dots) to make them solid\n",
    "#     cv2.circle(original_image, (x, y), radius, color, thickness)\n",
    "\n",
    "# # Get the screen/window dimensions\n",
    "# screen_height, screen_width, _ = original_image.shape\n",
    "\n",
    "# # Resize the image to fit the screen/window\n",
    "# max_dim = max(screen_height, screen_width)\n",
    "# if max_dim > 1000:  # You can adjust this threshold as needed\n",
    "#     scale_factor = 1000 / max_dim\n",
    "#     original_image = cv2.resize(original_image, None, fx=scale_factor, fy=scale_factor)\n",
    "\n",
    "# # Show the image with predicted landmarks\n",
    "# cv2.imshow('Predicted Landmarks', original_image)\n",
    "# cv2.waitKey(0)\n",
    "# cv2.destroyAllWindows()\n",
    "\n",
    "import cv2\n",
    "import tensorflow as tf\n",
    "import numpy as np\n",
    "import gradio as gr\n",
    "\n",
    "# Load the trained model from the saved file\n",
    "loaded_model = tf.keras.models.load_model('CatFaceFeatures_Resnet50_2.h5')\n",
    "\n",
    "# Function to predict facial landmarks on new images\n",
    "def predict_landmarks(image_input):\n",
    "    # Convert Gradio image object to numpy array\n",
    "    image = image_input.astype('uint8')\n",
    "\n",
    "    # Define the image size for resizing\n",
    "    image_size = (224, 224)\n",
    "\n",
    "    # Convert to RGB before resizing\n",
    "    image_rgb = cv2.cvtColor(image, cv2.COLOR_BGR2RGB)\n",
    "    resized_image = cv2.resize(image_rgb, image_size)\n",
    "    input_image = np.expand_dims(resized_image, axis=0)\n",
    "\n",
    "    # Make predictions using the trained model\n",
    "    predictions = loaded_model.predict(input_image)\n",
    "\n",
    "    # Rescale the predictions to the original image size\n",
    "    scale_y = image.shape[0] / image_size[0]\n",
    "    scale_x = image.shape[1] / image_size[1]\n",
    "    resized_predictions = [int(value * scale_x) if i % 2 == 0 else int(\n",
    "        value * scale_y) for i, value in enumerate(predictions[0])]\n",
    "\n",
    "    # Draw circles (dots) on the original image at the predicted landmark locations\n",
    "    for i in range(0, len(resized_predictions), 2):\n",
    "        x, y = resized_predictions[i], resized_predictions[i + 1]\n",
    "        color = (0, 0, 255)\n",
    "        radius = 8\n",
    "        thickness = -1\n",
    "        cv2.circle(image, (x, y), radius, color, thickness)\n",
    "        \n",
    "    return image\n",
    "\n",
    "# Define the Gradio input component\n",
    "image_input = gr.inputs.Image()\n",
    "\n",
    "# Create the Gradio interface\n",
    "gr.Interface(fn=predict_landmarks, inputs=image_input, share=True, outputs=\"image\").launch()\n"
   ]
  },
  {
   "cell_type": "code",
   "execution_count": null,
   "id": "e66792f0-43b5-4cc1-b842-b862e4ae6cc5",
   "metadata": {},
   "outputs": [],
   "source": []
  }
 ],
 "metadata": {
  "kernelspec": {
   "display_name": "Python 3.10 (tensorflow-gpu)",
   "language": "python",
   "name": "tensorflow-gpu"
  },
  "language_info": {
   "codemirror_mode": {
    "name": "ipython",
    "version": 3
   },
   "file_extension": ".py",
   "mimetype": "text/x-python",
   "name": "python",
   "nbconvert_exporter": "python",
   "pygments_lexer": "ipython3",
   "version": "3.10.12"
  }
 },
 "nbformat": 4,
 "nbformat_minor": 5
}

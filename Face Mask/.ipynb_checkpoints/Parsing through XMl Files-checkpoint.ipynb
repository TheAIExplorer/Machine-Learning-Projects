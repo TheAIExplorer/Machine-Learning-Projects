{
 "cells": [
  {
   "cell_type": "code",
   "execution_count": null,
   "id": "1e7b7b76-375b-403d-8e92-f3c2d4cf5b52",
   "metadata": {
    "tags": []
   },
   "outputs": [],
   "source": [
    "# code snippet that reads all XML files in a folder and retrieves the image sizes specified in each XML file:\n",
    "# python\n",
    "import os\n",
    "import xml.etree.ElementTree as ET\n",
    "\n",
    "folder_path = 'C:\\\\Users\\\\haris\\\\test-installation\\\\Data\\\\Face Mask\\\\annotations'\n",
    "\n",
    "# Get a list of XML files in the folder\n",
    "xml_files = [file for file in os.listdir(folder_path) if file.endswith('.xml')]\n",
    "\n",
    "# Initialize variables for minimum and maximum width and height\n",
    "min_width = float('inf')\n",
    "max_width = 0\n",
    "min_height = float('inf')\n",
    "max_height = 0\n",
    "\n",
    "# Iterate over the XML files and extract image sizes\n",
    "for xml_file in xml_files:\n",
    "    xml_path = os.path.join(folder_path, xml_file)\n",
    "    \n",
    "    # Parse the XML file\n",
    "    tree = ET.parse(xml_path)\n",
    "    root = tree.getroot()\n",
    "    \n",
    "    # Retrieve the image size from the XML file\n",
    "    width = int(root.find('size/width').text)\n",
    "    height = int(root.find('size/height').text)\n",
    "    depth = int(root.find('size/depth').text)\n",
    "    \n",
    "    # Update the minimum and maximum width and height\n",
    "    if width < min_width:\n",
    "        min_width = width\n",
    "    if width > max_width:\n",
    "        max_width = width\n",
    "    if height < min_height:\n",
    "        min_height = height\n",
    "    if height > max_height:\n",
    "        max_height = height\n",
    "    \n",
    "    # Print the image size\n",
    "    print(f\"Image Size for {xml_file}: Width: {width}, Height: {height}, Depth: {depth}\")\n",
    "\n",
    "# Print the minimum and maximum width and height\n",
    "print(f\"Minimum Width: {min_width}, Maximum Width: {max_width}\")\n",
    "print(f\"Minimum Height: {min_height}, Maximum Height: {max_height}\")\n"
   ]
  },
  {
   "cell_type": "code",
   "execution_count": null,
   "id": "141d23e5-cad4-4b80-b55d-c4308e767a6f",
   "metadata": {},
   "outputs": [],
   "source": []
  }
 ],
 "metadata": {
  "kernelspec": {
   "display_name": "Python 3.10 (tensorflow-gpu)",
   "language": "python",
   "name": "tensorflow-gpu"
  },
  "language_info": {
   "codemirror_mode": {
    "name": "ipython",
    "version": 3
   },
   "file_extension": ".py",
   "mimetype": "text/x-python",
   "name": "python",
   "nbconvert_exporter": "python",
   "pygments_lexer": "ipython3",
   "version": "3.10.12"
  }
 },
 "nbformat": 4,
 "nbformat_minor": 5
}

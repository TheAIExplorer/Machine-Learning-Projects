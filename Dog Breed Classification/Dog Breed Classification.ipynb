{
 "cells": [
  {
   "cell_type": "code",
   "execution_count": null,
   "id": "a9020c6a-da24-452d-8b2f-2f6faa7db31a",
   "metadata": {
    "tags": []
   },
   "outputs": [],
   "source": [
    "import os\n",
    "import pandas as pd\n",
    "import numpy as np\n",
    "from numpy import expand_dims\n",
    "import matplotlib.pyplot as plt\n",
    "import matplotlib.image as mpimg\n",
    "from skimage.transform import resize\n",
    "from IPython.display import SVG\n",
    "from tensorflow import keras\n",
    "from tensorflow.keras import applications\n",
    "from tensorflow.keras import optimizers\n",
    "from tensorflow.keras.models import Model, Sequential\n",
    "from tensorflow.keras.preprocessing.image import ImageDataGenerator, load_img, img_to_array\n",
    "from tensorflow.keras.layers import Dense, Flatten, Dropout, BatchNormalization, GlobalAveragePooling2D\n",
    "from tensorflow.keras.applications.inception_v3 import InceptionV3, preprocess_input\n",
    "from tensorflow.keras.utils import to_categorical, model_to_dot, plot_model\n",
    "from tensorflow.keras.callbacks import ModelCheckpoint, EarlyStopping, CSVLogger, ReduceLROnPlateau"
   ]
  },
  {
   "cell_type": "code",
   "execution_count": null,
   "id": "7096e915-c21a-41b1-915e-68d445301863",
   "metadata": {
    "tags": []
   },
   "outputs": [],
   "source": [
    "train_data_dir = r\"C:/Users/haris/AI/ML/Projects/Data/Dog Breed Classification/images/\"\n",
    "img_width, img_height = 224, 224 \n",
    "channels = 3\n",
    "batch_size = 64\n",
    "num_images= 50\n",
    "image_arr_size= img_width * img_height * channels"
   ]
  },
  {
   "cell_type": "code",
   "execution_count": null,
   "id": "bdc74c20-f850-4257-a1cb-bd6e1955630e",
   "metadata": {
    "tags": []
   },
   "outputs": [],
   "source": [
    "def get_images(image_dir):\n",
    "\n",
    "    image_index = 0\n",
    "    image_arr_size= img_width * img_height * channels\n",
    "    images = np.ndarray(shape=(num_images, image_arr_size))\n",
    "    labels = np.array([])                       \n",
    "\n",
    "    for type in os.listdir(image_dir)[:50]:\n",
    "        type_images = os.listdir(image_dir + type)\n",
    "        labels= np.append(labels, type.split('-')[1])\n",
    "        \n",
    "        for image in type_images[:1]:\n",
    "            image_file = os.path.join(image_dir, type + '/', image)\n",
    "            image_data = mpimg.imread(image_file)\n",
    "            image_resized = resize(image_data, (img_width, img_height), anti_aliasing=True)\n",
    "            images[image_index, :] = image_resized.flatten()\n",
    "            print (type, ':', image)\n",
    "            image_index += 1\n",
    "\n",
    "    return (images, labels)"
   ]
  },
  {
   "cell_type": "code",
   "execution_count": null,
   "id": "4322b662-4082-4ae1-9fbf-1098c4c65e21",
   "metadata": {
    "tags": []
   },
   "outputs": [],
   "source": [
    "def plot_images(instances, images_per_row=10, **options):\n",
    "    size = img_width\n",
    "    images_per_row = min(len(instances), images_per_row)\n",
    "    images = [instance.reshape(img_width, img_height, channels) for instance in instances]\n",
    "    n_rows = (len(instances) - 1) // images_per_row + 1\n",
    "    row_images = []\n",
    "    n_empty = n_rows * images_per_row - len(instances)\n",
    "    images.append(np.zeros((img_width, img_height * n_empty)))\n",
    "    for row in range(n_rows):\n",
    "        if (row == len(instances)/images_per_row):\n",
    "            break\n",
    "        rimages = images[row * images_per_row : (row + 1) * images_per_row]\n",
    "        row_images.append(np.concatenate(rimages, axis=1))\n",
    "    image = np.concatenate(row_images, axis=0)\n",
    "    plt.figure(figsize=(20,20))\n",
    "    plt.imshow(image, **options)\n",
    "    plt.axis(\"off\")\n",
    "    plt.savefig('dogs_images.png', transparent= True, bbox_inches= 'tight', dpi= 900)\n",
    "    plt.show()"
   ]
  },
  {
   "cell_type": "code",
   "execution_count": null,
   "id": "e83a0e2f-5957-4b7d-b20c-9aff7576434a",
   "metadata": {
    "tags": []
   },
   "outputs": [],
   "source": [
    "images, labels = get_images(train_data_dir)\n",
    "plot_images(images)"
   ]
  },
  {
   "cell_type": "code",
   "execution_count": null,
   "id": "172d4029-0883-4b6e-89fd-83b8cce0fb62",
   "metadata": {
    "tags": []
   },
   "outputs": [],
   "source": [
    "train_datagen = ImageDataGenerator(\n",
    "    rescale= 1./255,\n",
    "    shear_range= 0.2,\n",
    "    zoom_range= 0.2,\n",
    "    horizontal_flip= True,\n",
    "    rotation_range= 20,\n",
    "    width_shift_range= 0.2,\n",
    "    height_shift_range= 0.2,   \n",
    "    validation_split=0.2,\n",
    "\n",
    ")\n",
    "\n",
    "valid_datagen = ImageDataGenerator(\n",
    "    rescale= 1./255, \n",
    "    validation_split=0.2,\n",
    ")"
   ]
  },
  {
   "cell_type": "code",
   "execution_count": null,
   "id": "9261d795-82a0-4cc6-8a15-7f17030eb74b",
   "metadata": {
    "tags": []
   },
   "outputs": [],
   "source": [
    "train_generator = train_datagen.flow_from_directory(  \n",
    "    train_data_dir,  \n",
    "    target_size= (img_width, img_height), \n",
    "    color_mode= 'rgb',\n",
    "    batch_size= batch_size,  \n",
    "    class_mode= 'categorical',\n",
    "    subset='training',\n",
    "    shuffle= True, \n",
    "    seed= 1337\n",
    ") \n",
    "\n",
    "valid_generator = valid_datagen.flow_from_directory(\n",
    "    train_data_dir,\n",
    "    target_size= (img_width, img_height),\n",
    "    color_mode= 'rgb',\n",
    "    batch_size= batch_size,  \n",
    "    class_mode= 'categorical',\n",
    "    subset='validation',\n",
    "    shuffle= True, \n",
    "    seed= 1337\n",
    ")"
   ]
  },
  {
   "cell_type": "code",
   "execution_count": null,
   "id": "b7a6957c-634c-446d-946f-ad5b4f9f24fb",
   "metadata": {
    "tags": []
   },
   "outputs": [],
   "source": [
    "num_classes = len(train_generator.class_indices)  \n",
    "train_labels = train_generator.classes \n",
    "train_labels = to_categorical(train_labels, num_classes=num_classes)\n",
    "valid_labels = valid_generator.classes \n",
    "valid_labels = to_categorical(valid_labels, num_classes=num_classes)\n",
    "nb_train_samples = len(train_generator.filenames)  \n",
    "nb_valid_samples = len(valid_generator.filenames)"
   ]
  },
  {
   "cell_type": "code",
   "execution_count": null,
   "id": "bf615d00-30de-4d0f-8acc-8ea069c00a39",
   "metadata": {
    "tags": []
   },
   "outputs": [],
   "source": [
    "img = load_img(r'C:\\Users\\haris\\AI\\ML\\Projects\\Data\\Dog Breed Classification\\images\\n02086910-papillon\\n02086910_592.jpg')\n",
    "data = img_to_array(img)\n",
    "samples = expand_dims(data, 0)\n",
    "it = train_datagen.flow(samples, batch_size=1)\n",
    "\n",
    "for i in range(9):\n",
    "    plt.subplot(330 + 1 + i)\n",
    "    batch = it.next()\n",
    "    image = batch[0]\n",
    "    plt.imshow(image)\n",
    "\n",
    "plt.savefig('augmented_image.png', transparent= False, bbox_inches= 'tight', dpi= 900)\n",
    "plt.show()"
   ]
  },
  {
   "cell_type": "code",
   "execution_count": null,
   "id": "e6aed6db-38f8-48cb-b8e5-a5d99c0f33eb",
   "metadata": {
    "tags": []
   },
   "outputs": [],
   "source": [
    "InceptionV3 = applications.InceptionV3(include_top= False, input_shape= (img_width, img_height, channels), weights= 'imagenet')\n",
    "InceptionV3.summary()"
   ]
  },
  {
   "cell_type": "code",
   "execution_count": null,
   "id": "df6a4eba-30f5-43e4-ae85-53583a3f09b8",
   "metadata": {
    "tags": []
   },
   "outputs": [],
   "source": [
    "model = Sequential()\n",
    "\n",
    "for layer in InceptionV3.layers:\n",
    "    layer.trainable= False\n",
    "#     print(layer,layer.trainable)\n",
    "    \n",
    "model.add(InceptionV3)\n",
    "model.add(GlobalAveragePooling2D())\n",
    "model.add(Dropout(0.2))\n",
    "model.add(Dense(120,activation='softmax'))\n",
    "model.summary()"
   ]
  },
  {
   "cell_type": "code",
   "execution_count": null,
   "id": "696a2b9e-2ed8-4d8b-81f0-0a01dfb562c9",
   "metadata": {
    "tags": []
   },
   "outputs": [],
   "source": [
    "SVG(model_to_dot(model).create(prog='dot', format='svg'))\n",
    "plot_model(model, to_file='model_plot.png', show_shapes=True, show_layer_names=True, expand_nested=True)"
   ]
  },
  {
   "cell_type": "code",
   "execution_count": null,
   "id": "e1d6462a-d12e-42e2-b121-8bd002579737",
   "metadata": {},
   "outputs": [],
   "source": [
    "model.compile(optimizer= keras.optimizers.Adam(lr= 0.0001), loss= 'categorical_crossentropy', metrics= ['accuracy'])\n"
   ]
  },
  {
   "cell_type": "code",
   "execution_count": null,
   "id": "532a5adb-515b-4294-b0a0-9ab1e572ea81",
   "metadata": {},
   "outputs": [],
   "source": [
    "checkpoint = ModelCheckpoint(\n",
    "    'baseline_model.h5',\n",
    "    monitor='val_loss',\n",
    "    verbose=1,\n",
    "    save_best_only=True,\n",
    "    mode='auto',\n",
    "    save_weights_only=False,\n",
    "    period=1\n",
    ")\n",
    "\n",
    "earlystop = EarlyStopping(\n",
    "    monitor='val_loss',\n",
    "    min_delta=0.001,\n",
    "    patience=3,\n",
    "    verbose=1,\n",
    "    mode='auto'\n",
    ")\n",
    "\n",
    "csvlogger = CSVLogger(\n",
    "    filename= \"training_csv.log\",\n",
    "    separator = \",\",\n",
    "    append = False\n",
    ")\n",
    "\n",
    "reduceLR = ReduceLROnPlateau(\n",
    "    monitor='val_loss',\n",
    "    factor=0.1,\n",
    "    patience=3,\n",
    "    verbose=1, \n",
    "    mode='auto'\n",
    ")\n",
    "\n",
    "callbacks = [checkpoint, earlystop, csvlogger,reduceLR]"
   ]
  },
  {
   "cell_type": "code",
   "execution_count": null,
   "id": "7a8172cb-e9b9-443d-b9d7-f90362693290",
   "metadata": {},
   "outputs": [],
   "source": [
    "history = model.fit(\n",
    "    train_generator, \n",
    "    epochs = 30,\n",
    "    steps_per_epoch = nb_train_samples//batch_size,\n",
    "    validation_data = valid_generator, \n",
    "    validation_steps = nb_valid_samples//batch_size,\n",
    "    verbose = 2, \n",
    "    callbacks = callbacks,\n",
    "    shuffle = True\n",
    ")"
   ]
  },
  {
   "cell_type": "code",
   "execution_count": null,
   "id": "3f9a7b12-c36c-4e66-9d58-845caf3bc13c",
   "metadata": {
    "tags": []
   },
   "outputs": [],
   "source": [
    "plt.subplot()\n",
    "plt.title('Model Accuracy')\n",
    "plt.plot(history.history['accuracy'])\n",
    "plt.plot(history.history['val_accuracy'])\n",
    "plt.ylabel('Accuracy')\n",
    "plt.xlabel('Epochs')\n",
    "plt.legend(['Training Accuracy','Validation Accuracy'])\n",
    "plt.savefig('baseline_acc_epoch.png', transparent= False, bbox_inches= 'tight', dpi= 900)\n",
    "plt.show()\n",
    "\n",
    "plt.title('Model Loss')\n",
    "plt.plot(history.history['loss'])\n",
    "plt.plot(history.history['val_loss'])\n",
    "plt.ylabel('Loss')\n",
    "plt.xlabel('Epochs')\n",
    "plt.legend(['Training Loss','Validation Loss'])\n",
    "plt.savefig('baseline_loss_epoch.png', transparent= False, bbox_inches= 'tight', dpi= 900)\n",
    "plt.show()"
   ]
  },
  {
   "cell_type": "code",
   "execution_count": 1,
   "id": "aff26f05-b483-4a92-8f44-af337522c37a",
   "metadata": {
    "tags": []
   },
   "outputs": [
    {
     "ename": "NameError",
     "evalue": "name 'keras' is not defined",
     "output_type": "error",
     "traceback": [
      "\u001b[1;31m---------------------------------------------------------------------------\u001b[0m",
      "\u001b[1;31mNameError\u001b[0m                                 Traceback (most recent call last)",
      "Cell \u001b[1;32mIn[1], line 4\u001b[0m\n\u001b[0;32m      1\u001b[0m \u001b[38;5;28;01mimport\u001b[39;00m \u001b[38;5;21;01mtensorflow\u001b[39;00m \u001b[38;5;28;01mas\u001b[39;00m \u001b[38;5;21;01mtf\u001b[39;00m\n\u001b[0;32m      3\u001b[0m \u001b[38;5;66;03m# Load the best model\u001b[39;00m\n\u001b[1;32m----> 4\u001b[0m best_model \u001b[38;5;241m=\u001b[39m \u001b[43mkeras\u001b[49m\u001b[38;5;241m.\u001b[39mmodels\u001b[38;5;241m.\u001b[39mload_model(\u001b[38;5;124m\"\u001b[39m\u001b[38;5;124mbaseline_model.h5\u001b[39m\u001b[38;5;124m\"\u001b[39m)\n\u001b[0;32m      6\u001b[0m \u001b[38;5;66;03m# Get the class labels from the generator\u001b[39;00m\n\u001b[0;32m      7\u001b[0m class_labels \u001b[38;5;241m=\u001b[39m \u001b[38;5;28mlist\u001b[39m(train_generator\u001b[38;5;241m.\u001b[39mclass_indices\u001b[38;5;241m.\u001b[39mkeys())\n",
      "\u001b[1;31mNameError\u001b[0m: name 'keras' is not defined"
     ]
    }
   ],
   "source": [
    "import tensorflow as tf\n",
    "\n",
    "# Load the best model\n",
    "best_model = keras.models.load_model(\"baseline_model.h5\")\n",
    "\n",
    "# Get the class labels from the generator\n",
    "class_labels = list(train_generator.class_indices.keys())\n",
    "\n",
    "# Define a tf.function for prediction\n",
    "@tf.function\n",
    "def predict_image(image_array):\n",
    "    prediction = best_model(image_array)\n",
    "    class_index = tf.argmax(prediction, axis=1)\n",
    "    predicted_class = tf.gather(class_labels, class_index)\n",
    "    return predicted_class\n",
    "\n",
    "# Making predictions on new images\n",
    "def predict_new_image(image_path):\n",
    "    img = load_img(image_path, target_size=(img_width, img_height))\n",
    "    img_array = img_to_array(img)\n",
    "    img_array = expand_dims(img_array, axis=0)\n",
    "    img_array /= 255.0  # Normalize the image\n",
    "    \n",
    "    # Predict using the tf.function\n",
    "    predicted_breed = predict_image(img_array)\n",
    "    return predicted_breed[0]\n",
    "\n",
    "# Path to your new image\n",
    "new_image_path = r'C:\\Users\\haris\\AI\\ML\\Projects\\Data\\Dog Breed Classification\\n02086910_334.jpg'\n",
    "\n",
    "# Make a prediction\n",
    "predicted_breed = predict_new_image(new_image_path)\n",
    "print(\"Predicted dog breed:\", predicted_breed)\n"
   ]
  },
  {
   "cell_type": "code",
   "execution_count": null,
   "id": "e2dce702-08b9-4ce2-a58e-ecd15620a2bf",
   "metadata": {},
   "outputs": [],
   "source": []
  }
 ],
 "metadata": {
  "kernelspec": {
   "display_name": "Python 3.10 (tensorflow-gpu)",
   "language": "python",
   "name": "tensorflow-gpu"
  },
  "language_info": {
   "codemirror_mode": {
    "name": "ipython",
    "version": 3
   },
   "file_extension": ".py",
   "mimetype": "text/x-python",
   "name": "python",
   "nbconvert_exporter": "python",
   "pygments_lexer": "ipython3",
   "version": "3.10.12"
  }
 },
 "nbformat": 4,
 "nbformat_minor": 5
}

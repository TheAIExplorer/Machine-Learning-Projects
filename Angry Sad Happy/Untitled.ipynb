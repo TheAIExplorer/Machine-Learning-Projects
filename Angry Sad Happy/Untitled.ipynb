{
 "cells": [
  {
   "cell_type": "code",
   "execution_count": 30,
   "id": "8f0ee45f-81ce-43ae-a8ac-33235658b8c7",
   "metadata": {
    "tags": []
   },
   "outputs": [],
   "source": [
    "import os\n",
    "import numpy as np\n",
    "import cv2\n",
    "from tensorflow.keras.models import Sequential\n",
    "from tensorflow.keras.layers import Dense, Flatten, Conv2D, MaxPooling2D\n",
    "from tensorflow.keras.utils import to_categorical\n",
    "import albumentations as A\n",
    "from sklearn.model_selection import train_test_split\n",
    "from albumentations import (\n",
    "    HorizontalFlip, VerticalFlip, RandomRotate90,\n",
    "    ShiftScaleRotate, Blur, RandomBrightnessContrast,\n",
    "    Compose\n",
    ")\n"
   ]
  },
  {
   "cell_type": "code",
   "execution_count": null,
   "id": "0fcdd758-64cf-4ff4-b93d-11a6d891d0f7",
   "metadata": {
    "tags": []
   },
   "outputs": [],
   "source": [
    "data_dir = r'C:\\Users\\haris\\ArtificialIntelligence\\MachineLearning\\Projects\\Angry Sad Happy'\n",
    "\n",
    "# Create a list to store data\n",
    "images = []\n",
    "labels = []\n",
    "\n",
    "# Define the augmentation transformations\n",
    "augmentation_transform = Compose([\n",
    "    HorizontalFlip(p=0.5),            # Horizontal flip with 50% probability\n",
    "    VerticalFlip(p=0.5),              # Vertical flip with 50% probability\n",
    "    RandomRotate90(p=0.5),            # Random rotation by 90 degrees with 50% probability\n",
    "    ShiftScaleRotate(shift_limit=0.1, scale_limit=0.2, rotate_limit=45, p=0.5),  # Random shift, scale, and rotate\n",
    "    Blur(p=0.2),                      # Blur with 20% probability\n",
    "    RandomBrightnessContrast(p=0.3),  # Random brightness and contrast adjustment with 30% probability\n",
    "])\n",
    "\n",
    "# Create a list to store augmented data\n",
    "augmented_images = []\n",
    "augmented_labels = []\n",
    "\n",
    "# Loop through all folders and images\n",
    "for emotion in ['Happy', 'Sad', 'Angry']:\n",
    "    folder_path = os.path.join(data_dir, emotion)\n",
    "    for filename in os.listdir(folder_path):\n",
    "        image_path = os.path.join(folder_path, filename)\n",
    "        image = cv2.imread(image_path)\n",
    "        image = cv2.cvtColor(image, cv2.COLOR_BGR2RGB)  # Convert BGR to RGB\n",
    "\n",
    "        # Apply data augmentation to the image\n",
    "        for _ in range(100):\n",
    "            augmented = augmentation_transform(image=image)\n",
    "            augmented_image = augmented['image']\n",
    "            augmented_images.append(augmented_image)\n",
    "            augmented_labels.append(emotion)\n",
    "\n",
    "# Convert the list of augmented images and labels to numpy arrays\n",
    "X_augmented = np.array(augmented_images)\n",
    "y_augmented = np.array(augmented_labels)\n",
    "\n",
    "# # Convert the list of images and labels to numpy arrays\n",
    "# X = np.array(images)\n",
    "# y = np.array(labels)\n",
    "\n",
    "# Encode labels into numeric form\n",
    "label_to_numeric = {'Happy': 0, 'Sad': 1, 'Angry': 2}\n",
    "y_numeric = np.array([label_to_numeric[label] for label in y_augmented])\n",
    "\n",
    "# Convert labels to one-hot encoded format\n",
    "y_one_hot = to_categorical(y_numeric, num_classes=3)"
   ]
  },
  {
   "cell_type": "code",
   "execution_count": null,
   "id": "47ef6253-33cd-40b2-b540-931d0b4fb8e9",
   "metadata": {
    "tags": []
   },
   "outputs": [],
   "source": [
    "X_train, X_test, y_train, y_test = train_test_split(X_augmented, y_one_hot, test_size=0.2, random_state=42)\n"
   ]
  },
  {
   "cell_type": "code",
   "execution_count": null,
   "id": "687b2434-3bd8-4615-a27d-cc50db56f46a",
   "metadata": {
    "tags": []
   },
   "outputs": [],
   "source": [
    "model = Sequential()\n",
    "model.add(Conv2D(32, kernel_size=(3, 3), activation='relu', input_shape=(128, 128, 3)))\n",
    "model.add(MaxPooling2D(pool_size=(2, 2)))\n",
    "model.add(Conv2D(64, kernel_size=(3, 3), activation='relu'))\n",
    "model.add(MaxPooling2D(pool_size=(2, 2)))\n",
    "model.add(Flatten())\n",
    "model.add(Dense(128, activation='relu'))\n",
    "model.add(Dense(3, activation='softmax'))  # 3 output neurons for the 3 emotions\n",
    "\n",
    "model.compile(optimizer='adam', loss='categorical_crossentropy', metrics=['accuracy'])\n"
   ]
  },
  {
   "cell_type": "code",
   "execution_count": null,
   "id": "917147d6-bc48-41ac-9c60-78e5ce82cf02",
   "metadata": {
    "tags": []
   },
   "outputs": [],
   "source": [
    "model.fit(X_train, y_train, epochs=10, batch_size=32, validation_split=0.2)\n"
   ]
  },
  {
   "cell_type": "code",
   "execution_count": null,
   "id": "630a9251-1894-4f1a-a90f-626c9db0fe89",
   "metadata": {
    "tags": []
   },
   "outputs": [],
   "source": [
    "loss, accuracy = model.evaluate(X_test, y_test)\n",
    "print(\"Test accuracy:\", accuracy)\n"
   ]
  },
  {
   "cell_type": "code",
   "execution_count": null,
   "id": "7c62a800-81ed-4803-9053-05414e414bf4",
   "metadata": {
    "tags": []
   },
   "outputs": [],
   "source": [
    "# Assuming you have a single image as 'test_image'\n",
    "test_image = cv2.imread(r'C:\\Users\\haris\\ArtificialIntelligence\\MachineLearning\\Projects\\Angry Sad Happy\\73705bd7debb66c2afc780a22c223804.jpg')\n",
    "test_image = cv2.cvtColor(test_image, cv2.COLOR_BGR2RGB)\n",
    "test_image = cv2.resize(test_image, (128, 128))\n",
    "test_image = np.expand_dims(test_image, axis=0)  # Add a batch dimension\n",
    "\n",
    "predicted_probs = model.predict(test_image)\n",
    "predicted_emotion = ['Happy', 'Sad', 'Angry'][np.argmax(predicted_probs)]\n",
    "print(\"Predicted emotion:\", predicted_emotion)\n"
   ]
  },
  {
   "cell_type": "code",
   "execution_count": null,
   "id": "ccea9603-b28a-427c-b0c8-691fbc5a4c66",
   "metadata": {},
   "outputs": [],
   "source": []
  }
 ],
 "metadata": {
  "kernelspec": {
   "display_name": "Python 3.10 (tensorflow-gpu)",
   "language": "python",
   "name": "tensorflow-gpu"
  },
  "language_info": {
   "codemirror_mode": {
    "name": "ipython",
    "version": 3
   },
   "file_extension": ".py",
   "mimetype": "text/x-python",
   "name": "python",
   "nbconvert_exporter": "python",
   "pygments_lexer": "ipython3",
   "version": "3.10.12"
  }
 },
 "nbformat": 4,
 "nbformat_minor": 5
}
